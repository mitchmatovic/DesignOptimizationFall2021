{
 "cells": [
  {
   "cell_type": "markdown",
   "source": [
    "Problem 1 part 1"
   ],
   "metadata": {}
  },
  {
   "cell_type": "code",
   "execution_count": null,
   "source": [
    "import numpy as np\n",
    "x1 = np.array([0.0,0.1,0.2,0.3,0.4,0.5,0.6,0.7,0.8,0.9,1.0])\n",
    "x2 = np.array([1.0,0.9,0.8,0.7,0.6,0.5,0.4,0.3,0.2,0.1,0.0])\n",
    "p = np.array([28.1,34.3,36.7,36.9,36.8,36.7,36.5,35.4,32.9,27.7,17.5])\n",
    "m = np.matmul(p.transpose(),x1)/(np.matmul(x1.transpose(),x1))\n",
    "print(m)\n",
    "\n"
   ],
   "outputs": [],
   "metadata": {}
  },
  {
   "cell_type": "markdown",
   "source": [
    "problem 1 part 2"
   ],
   "metadata": {}
  },
  {
   "cell_type": "code",
   "execution_count": null,
   "source": [
    "import torch as t\n",
    "from torch.autograd import Variable\n",
    "import math as m\n",
    "\n",
    "x = np.linspace(0,1,num=11)\n",
    "x = t.from_numpy(x)\n",
    "p_exp = np.array([28.1,34.3,36.7,36.9,36.8,36.7,36.5,35.4,32.9,27.7,17.5])\n",
    "p_exp = t.from_numpy(p_exp)\n",
    "A = Variable(t.tensor([1.0, 1.0]), requires_grad=True)\n",
    "err = []\n",
    "a = 0.01\n",
    "for i in range(11):\n",
    "    p[i] = x[i]*t.exp(A[0]*((A[1]*(1-x[i])/(A[0]*x[i]+A[1]*(1-x[i]))))**2)*17.4637\\\n",
    "        +(1-x[i])*t.exp(A[1]*((A[0]*x[i])/(A[0]*x[i]+A[1]*(1-x[i]))**2))*28.8241\n",
    "    loss = ((x[i]*t.exp(A[0]*((A[1]*(1-x[i])/(A[0]*x[i]+A[1]*(1-x[i]))))**2)*17.4637\\\n",
    "        +(1-x[i])*t.exp(A[1]*((A[0]*x[i])/(A[0]*x[i]+A[1]*(1-x[i]))**2))*28.8241)\\\n",
    "            -p_exp[i])**2\n",
    "    loss.backward()\n",
    "    with t.no_grad():\n",
    "        A -= a*A.grad\n",
    "        A.grad.zero_()\n",
    "        \n",
    "print(A.data.numpy())\n",
    "print(loss.data.numpy())\n"
   ],
   "outputs": [],
   "metadata": {}
  },
  {
   "cell_type": "markdown",
   "source": [
    "problem 2"
   ],
   "metadata": {}
  },
  {
   "cell_type": "code",
   "execution_count": null,
   "source": [
    "\n",
    "import numpy as np\n",
    "import matplotlib.pyplot as plt\n",
    "def sample_loss(x):\n",
    "    return (4-2.1*x[0]**2+(x[0]**4)/3)*x[0]**2 + x[0]*x[1] + (-4+4*x[1]**2)*x[1]**2\n",
    "x1 = np.linspace(-3, 3, 60)\n",
    "x2 = np.linspace(-2, 2, 40)\n",
    "param_grid = np.array([[y1,y2] for y2 in x2 for y1 in x1])\n",
    "real_loss = [sample_loss(x) for x in param_grid]\n",
    "param_grid[np.array(real_loss).argmax(),:]\n",
    "\n",
    "from matplotlib import rc\n",
    "\n",
    "rc('text', usetex=True)\n",
    "X1, X2 = np.meshgrid(x1,x2)\n",
    "plt.figure()\n",
    "cp = plt.contourf(X1, X2, np.array(real_loss).reshape(X1.shape))\n",
    "plt.colorbar(cp)\n",
    "plt.title('Filled contours plot of loss function')\n",
    "plt.xlabel('C')\n",
    "plt.ylabel('gamma')\n",
    "plt.show()"
   ],
   "outputs": [],
   "metadata": {}
  },
  {
   "cell_type": "markdown",
   "source": [
    "new approach to problem 2 using skopt"
   ],
   "metadata": {}
  },
  {
   "cell_type": "code",
   "execution_count": null,
   "source": [
    "print(__doc__)\n",
    "\n",
    "import numpy as np\n",
    "np.random.seed(237)\n",
    "import matplotlib.pyplot as plt\n",
    "from skopt.plots import plot_gaussian_process\n",
    "\n",
    "noise_level = 0.1\n",
    "\n",
    "def f(x1,x2, noise_level=noise_level):\n",
    "    return (4-2.1*x[0]**2+(x[0]**4)/3)*x[0]**2 + x[0]*x[1] + (-4+4*x[1]**2)*x[1]**2\\\n",
    "           + np.random.randn() * noise_level\n",
    "\n",
    "x1_i = np.linspace(-3, 3, 400).reshape(-1, 1)\n",
    "x2_i = np.linspace(-2, 2, 400).reshape(-1, 1)\n",
    "fx = [f(x noise_level=0.0) for x_i in x]\n",
    "plt.plot(x, fx, \"r--\", label=\"True (unknown)\")\n",
    "plt.fill(np.concatenate([x, x[::-1]]),\n",
    "         np.concatenate(([fx_i - 1.9600 * noise_level for fx_i in fx],\n",
    "                         [fx_i + 1.9600 * noise_level for fx_i in fx[::-1]])),\n",
    "         alpha=.2, fc=\"r\", ec=\"None\")\n",
    "plt.legend()\n",
    "plt.grid()\n",
    "plt.show()"
   ],
   "outputs": [],
   "metadata": {}
  },
  {
   "cell_type": "markdown",
   "source": [
    "new problem 2 approach building baynsian optmization from scratch"
   ],
   "metadata": {}
  },
  {
   "cell_type": "code",
   "execution_count": 74,
   "source": [
    "import numpy as np\n",
    "import math as m\n",
    "import matplotlib.pyplot as plt\n",
    "\n",
    "\n",
    "def objective(x1,x2, noise=0.1):\n",
    "    noise = np.random.normal(loc=0, scale=noise)\n",
    "    return ((4-2.1*x1**2+(x1**4)/3)*x1**2 + x1*x2 + (-4+4*x2**2)*x2**2) + noise\n",
    "X1 = np.linspace(-3,3,600)\n",
    "X2 = np.linspace(-2,2,400)\n",
    "f = np.array([objective(x1,x2,0) for x1 in X1 for x2 in X2])\n",
    "f = np.array([objective(x1,x2,0.1) for x1 in X1 for x2 in X2])\n",
    "ix = np.argmin(f)\n",
    "z = np.unravel_index(ix,(600,400))\n",
    "print(f[ix])\n",
    "print(z)\n",
    "print(X1[z[0]],X2[z[1]])\n",
    "\n"
   ],
   "outputs": [
    {
     "output_type": "stream",
     "name": "stdout",
     "text": [
      "-1.0313994903674346\n",
      "(290, 271)\n",
      "-0.09515859766277135 0.7167919799498748\n"
     ]
    }
   ],
   "metadata": {}
  },
  {
   "cell_type": "markdown",
   "source": [
    "back to original approach"
   ],
   "metadata": {}
  },
  {
   "cell_type": "code",
   "execution_count": 63,
   "source": [
    "from gp import bayesian_optimisation\n",
    "from plotters import plot_iteration\n",
    "\n",
    "import numpy as np\n",
    "import matplotlib.pyplot as plt\n",
    "\n",
    "\n",
    "def sample_loss(x):\n",
    "    return -((4-2.1*x[0]**2+(x[0]**4)/3)*x[0]**2 + x[0]*x[1] + (-4+4*x[1]**2)*x[1]**2)\n",
    "X1 = np.linspace(-3,3,200)\n",
    "X2 = np.linspace(-2,2,400)\n",
    "param_grid = np.array([[x1,x2] for x2 in X2 for x1 in X1])\n",
    "real_loss = [sample_loss(x) for x in param_grid]\n",
    "param_grid[np.array(real_loss).argmin(),:]\n",
    "\n",
    "x1,x2 = np.meshgrid(X1,X2)\n",
    "plt.figure()\n",
    "cp = plt.contourf(x1,x2, np.array(real_loss).reshape(x1.shape))\n",
    "plt.colorbar(cp)\n",
    "plt.title('asdas')\n",
    "plt.xlabel('asd')\n",
    "plt.ylabel('asds')\n",
    "plt.show\n",
    "\n",
    "bounds = np.array([[-3,3],[-2,2]])\n",
    "\n",
    "xp,yp = bayesian_optimisation(n_iters=30,sample_loss=sample_loss,bounds=bounds,n_pre_samples=5,random_search=100000)\n",
    "\n",
    "print(xp[-1])\n",
    "print(yp[-1])"
   ],
   "outputs": [
    {
     "output_type": "stream",
     "name": "stdout",
     "text": [
      "[-0.0395906   0.76237683]\n",
      "0.9975327195045489\n"
     ]
    },
    {
     "output_type": "display_data",
     "data": {
      "image/png": "[encoded data removed]",
      "text/plain": [
       "<Figure size 432x288 with 2 Axes>"
      ]
     },
     "metadata": {}
    }
   ],
   "metadata": {}
  },
  {
   "cell_type": "markdown",
   "source": [
    "Final result of problem 2, bayesian optimization is not very good at accurately finding the minimum of the function but this one result was close enough to consider it successful"
   ],
   "metadata": {}
  }
 ],
 "metadata": {
  "orig_nbformat": 4,
  "language_info": {
   "name": "python",
   "version": "3.6.5",
   "mimetype": "text/x-python",
   "codemirror_mode": {
    "name": "ipython",
    "version": 3
   },
   "pygments_lexer": "ipython3",
   "nbconvert_exporter": "python",
   "file_extension": ".py"
  },
  "kernelspec": {
   "name": "python3",
   "display_name": "Python 3.9.6 64-bit"
  },
  "interpreter": {
   "hash": "aee8b7b246df8f9039afb4144a1f6fd8d2ca17a180786b69acc140d282b71a49"
  }
 },
 "nbformat": 4,
 "nbformat_minor": 2
}