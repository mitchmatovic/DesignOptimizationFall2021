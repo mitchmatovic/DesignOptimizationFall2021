{
 "cells": [
  {
   "cell_type": "markdown",
   "source": [
    "Problem 1 part 1"
   ],
   "metadata": {}
  },
  {
   "cell_type": "code",
   "execution_count": null,
   "source": [
    "import numpy as np\n",
    "x1 = np.array([0.0,0.1,0.2,0.3,0.4,0.5,0.6,0.7,0.8,0.9,1.0])\n",
    "x2 = np.array([1.0,0.9,0.8,0.7,0.6,0.5,0.4,0.3,0.2,0.1,0.0])\n",
    "p = np.array([28.1,34.3,36.7,36.9,36.8,36.7,36.5,35.4,32.9,27.7,17.5])\n",
    "m = np.matmul(p.transpose(),x1)/(np.matmul(x1.transpose(),x1))\n",
    "print(m)\n",
    "\n"
   ],
   "outputs": [],
   "metadata": {}
  },
  {
   "cell_type": "markdown",
   "source": [
    "problem 1 part 2"
   ],
   "metadata": {}
  },
  {
   "cell_type": "code",
   "execution_count": null,
   "source": [
    "import torch as t\n",
    "from torch.autograd import Variable\n",
    "import math as m\n",
    "\n",
    "x = np.linspace(0,1,num=11)\n",
    "x = t.from_numpy(x)\n",
    "p_exp = np.array([28.1,34.3,36.7,36.9,36.8,36.7,36.5,35.4,32.9,27.7,17.5])\n",
    "p_exp = t.from_numpy(p_exp)\n",
    "A = Variable(t.tensor([1.0, 1.0]), requires_grad=True)\n",
    "err = []\n",
    "a = 0.01\n",
    "for i in range(11):\n",
    "    p[i] = x[i]*t.exp(A[0]*((A[1]*(1-x[i])/(A[0]*x[i]+A[1]*(1-x[i]))))**2)*17.4637\\\n",
    "        +(1-x[i])*t.exp(A[1]*((A[0]*x[i])/(A[0]*x[i]+A[1]*(1-x[i]))**2))*28.8241\n",
    "    loss = ((x[i]*t.exp(A[0]*((A[1]*(1-x[i])/(A[0]*x[i]+A[1]*(1-x[i]))))**2)*17.4637\\\n",
    "        +(1-x[i])*t.exp(A[1]*((A[0]*x[i])/(A[0]*x[i]+A[1]*(1-x[i]))**2))*28.8241)\\\n",
    "            -p_exp[i])**2\n",
    "    loss.backward()\n",
    "    with t.no_grad():\n",
    "        A -= a*A.grad\n",
    "        A.grad.zero_()\n",
    "        \n",
    "print(A.data.numpy())\n",
    "print(loss.data.numpy())\n"
   ],
   "outputs": [],
   "metadata": {}
  },
  {
   "cell_type": "markdown",
   "source": [
    "problem 2"
   ],
   "metadata": {}
  },
  {
   "cell_type": "code",
   "execution_count": 3,
   "source": [
    "\n",
    "import numpy as np\n",
    "import matplotlib.pyplot as plt\n",
    "def sample_loss(x):\n",
    "    return (4-2.1*x[0]**2+(x[0]**4)/3)*x[0]**2 + x[0]*x[1] + (-4+4*x[1]**2)*x[1]**2\n",
    "x1 = np.linspace(-3, 3, 60)\n",
    "x2 = np.linspace(-2, 2, 40)\n",
    "param_grid = np.array([[y1,y2] for y2 in x2 for y1 in x1])\n",
    "real_loss = [sample_loss(x) for x in param_grid]\n",
    "param_grid[np.array(real_loss).argmax(),:]\n",
    "\n",
    "from matplotlib import rc\n",
    "\n",
    "rc('text', usetex=True)\n",
    "X1, X2 = np.meshgrid(x1,x2)\n",
    "plt.figure()\n",
    "cp = plt.contourf(X1, X2, np.array(real_loss).reshape(X1.shape))\n",
    "plt.colorbar(cp)\n",
    "plt.title('Filled contours plot of loss function $\\mathcal{L}$($\\gamma$, $C$)')\n",
    "plt.xlabel('$C$')\n",
    "plt.ylabel('$\\gamma')\n",
    "plt.show()"
   ],
   "outputs": [
    {
     "output_type": "display_data",
     "data": {
      "text/plain": [
       "<Figure size 640x480 with 2 Axes>"
      ]
     },
     "metadata": {}
    }
   ],
   "metadata": {}
  }
 ],
 "metadata": {
  "orig_nbformat": 4,
  "language_info": {
   "name": "python",
   "version": "3.6.5",
   "mimetype": "text/x-python",
   "codemirror_mode": {
    "name": "ipython",
    "version": 3
   },
   "pygments_lexer": "ipython3",
   "nbconvert_exporter": "python",
   "file_extension": ".py"
  },
  "kernelspec": {
   "name": "python3",
   "display_name": "Python 3.6.5 64-bit ('base': conda)"
  },
  "interpreter": {
   "hash": "31ad8a4f7f17ec1b414f3756a8c1a8bfd136f10a0949195681424be9c5c02dba"
  }
 },
 "nbformat": 4,
 "nbformat_minor": 2
}