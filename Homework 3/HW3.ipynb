{
 "cells": [
  {
   "cell_type": "markdown",
   "source": [
    "Problem 1"
   ],
   "metadata": {}
  },
  {
   "cell_type": "markdown",
   "source": [
    "![P1](P1.png \"P1\")"
   ],
   "metadata": {}
  },
  {
   "cell_type": "markdown",
   "source": [
    "Problem 2) Part 1"
   ],
   "metadata": {}
  },
  {
   "cell_type": "markdown",
   "source": [
    "![P2](P2.png \"P2\")"
   ],
   "metadata": {}
  },
  {
   "cell_type": "markdown",
   "source": [
    "Problem 2) Part 2"
   ],
   "metadata": {}
  },
  {
   "cell_type": "markdown",
   "source": [
    "Gradient descent code with initial guess point [1, 1] for [x2, x3] which converged to approximately -[15/14 and 1/7] in 115 iterations"
   ],
   "metadata": {}
  },
  {
   "cell_type": "code",
   "execution_count": 24,
   "source": [
    "import numpy as np\n",
    "import matplotlib.pyplot as plt\n",
    "\n",
    "obj = lambda x: (1-2*x[0]-3*x[1]+1)**2 + x[0]**2 + (x[1]-1)**2\n",
    "\n",
    "def grad(x):\n",
    "    return np.array([10*x[0] + 12*x[1] - 8, 12*x[0] + 20*x[1] - 14])\n",
    "H = np.array([[10,-12], [-12,20]])\n",
    "\n",
    "eps = 1e-3\n",
    "x0 = [1, 1]\n",
    "print('Initial point tested:',x0)\n",
    "k = 0\n",
    "i = [k]\n",
    "soln = [x0]\n",
    "x = soln[k]\n",
    "Hinv = np.linalg.inv(H)\n",
    "error = np.linalg.norm(grad(x))\n",
    "err = []\n",
    "err.append(error)\n",
    "a=1\n",
    "\n",
    "def linesearch(x):\n",
    "    a = 1.\n",
    "    d = -np.matmul(np.linalg.inv(H), grad(x))\n",
    "    phi = lambda a, x: obj(x) + a*.8*np.matmul(np.transpose(grad(x)),d)\n",
    "    while phi(a,x)<obj(x+a*d):\n",
    "        a = 0.5*a\n",
    "    return a\n",
    "    \n",
    "while error >= eps:\n",
    "    a = linesearch(x)\n",
    "    x = x - a*grad(x)\n",
    "    soln.append(x)\n",
    "    error = np.linalg.norm(grad(x))\n",
    "    err.append(error)\n",
    "    k=k+1\n",
    "    i.append(k)\n",
    "print('[x2 x3]=',soln[-1])\n",
    "print('Iterations=',k)\n",
    "\n",
    "plt.plot(i, np.log(err))\n",
    "\n",
    "plt.title('Gradient Descent Error')\n",
    "plt.xlabel('Iteration')\n",
    "plt.ylabel('log(error)')\n",
    "plt.show()"
   ],
   "outputs": [
    {
     "output_type": "stream",
     "name": "stdout",
     "text": [
      "Initial point tested: [1, 1]\n",
      "[x2 x3]= [-0.14244315  0.78543829]\n",
      "Iterations= 115\n"
     ]
    },
    {
     "output_type": "display_data",
     "data": {
      "image/png": "[encoded data removed]",
      "text/plain": [
       "<Figure size 432x288 with 1 Axes>"
      ]
     },
     "metadata": {}
    }
   ],
   "metadata": {}
  },
  {
   "cell_type": "markdown",
   "source": [
    "Newton's method  code with initial guess point [1, 1] for [x2, x3] which converged to approximately -[15/14 and 1/7] in 382 iterations"
   ],
   "metadata": {}
  },
  {
   "cell_type": "code",
   "execution_count": 3,
   "source": [
    "import numpy as np\n",
    "import matplotlib.pyplot as plt\n",
    "\n",
    "obj = lambda x: (1-2*x[0]-3*x[1]+1)**2 + x[0]**2 + (x[1]-1)**2\n",
    "\n",
    "def grad(x):\n",
    "    return np.array([10*x[0] + 12*x[1] - 8, 12*x[0] + 20*x[1] - 14])\n",
    "H = np.array([[10,-12], [-12,20]])\n",
    "\n",
    "eps = 1e-3\n",
    "x0 = [1, 1]\n",
    "print('Initial point tested:',x0)\n",
    "k = 0\n",
    "i = [k]\n",
    "soln = [x0]\n",
    "x = soln[k]\n",
    "Hinv = np.linalg.inv(H)\n",
    "error = np.linalg.norm(grad(x))\n",
    "err = []\n",
    "err.append(error)\n",
    "a=1\n",
    "\n",
    "def linesearch(x):\n",
    "    a = 1.\n",
    "    d = -np.matmul(np.linalg.inv(H), grad(x))\n",
    "    phi = lambda a, x: obj(x) + a*.8*np.matmul(np.transpose(grad(x)),d)\n",
    "    while phi(a,x)<obj(x+a*d):\n",
    "        a = 0.5*a\n",
    "    return a\n",
    "    \n",
    "while error >= eps:\n",
    "    a = linesearch(x)\n",
    "    x = x - 0.5*a*np.dot(Hinv,grad(x))\n",
    "    soln.append(x)\n",
    "    error = np.linalg.norm(grad(x))\n",
    "    err.append(error)\n",
    "    k=k+1\n",
    "    i.append(k)\n",
    "print('[x2 x3]=',soln[-1])\n",
    "print('Iterations=',k)\n",
    "\n",
    "plt.plot(i, np.log(err))\n",
    "\n",
    "plt.title(\"Newton's Method Error\")\n",
    "plt.xlabel('Iteration')\n",
    "plt.ylabel('log(error)')\n",
    "plt.show()"
   ],
   "outputs": [
    {
     "output_type": "stream",
     "name": "stdout",
     "text": [
      "Initial point tested: [1, 1]\n",
      "[x2 x3]= [-0.14246106  0.78544054]\n",
      "Iterations= 382\n"
     ]
    },
    {
     "output_type": "display_data",
     "data": {
      "image/png": "[encoded data removed]",
      "text/plain": [
       "<Figure size 432x288 with 1 Axes>"
      ]
     },
     "metadata": {}
    }
   ],
   "metadata": {}
  },
  {
   "cell_type": "markdown",
   "source": [
    "Problem 3"
   ],
   "metadata": {}
  },
  {
   "cell_type": "markdown",
   "source": [
    " ![P3](P3.png \"P3\")"
   ],
   "metadata": {}
  },
  {
   "cell_type": "markdown",
   "source": [
    "Problem 4"
   ],
   "metadata": {}
  },
  {
   "cell_type": "markdown",
   "source": [
    " ![P4](P4.png \"P4\")"
   ],
   "metadata": {}
  },
  {
   "cell_type": "markdown",
   "source": [
    "Problem 5) Part 1 & 2"
   ],
   "metadata": {}
  },
  {
   "cell_type": "markdown",
   "source": [
    " ![P51](P51.png \"P51\")"
   ],
   "metadata": {}
  },
  {
   "cell_type": "markdown",
   "source": [
    "Problem 5) Part 3 & 4"
   ],
   "metadata": {}
  },
  {
   "cell_type": "markdown",
   "source": [
    " ![P52](P52.png \"P52\")"
   ],
   "metadata": {}
  }
 ],
 "metadata": {
  "orig_nbformat": 4,
  "language_info": {
   "name": "python",
   "version": "3.6.5",
   "mimetype": "text/x-python",
   "codemirror_mode": {
    "name": "ipython",
    "version": 3
   },
   "pygments_lexer": "ipython3",
   "nbconvert_exporter": "python",
   "file_extension": ".py"
  },
  "kernelspec": {
   "name": "python3",
   "display_name": "Python 3.6.5 64-bit ('base': conda)"
  },
  "interpreter": {
   "hash": "31ad8a4f7f17ec1b414f3756a8c1a8bfd136f10a0949195681424be9c5c02dba"
  }
 },
 "nbformat": 4,
 "nbformat_minor": 2
}