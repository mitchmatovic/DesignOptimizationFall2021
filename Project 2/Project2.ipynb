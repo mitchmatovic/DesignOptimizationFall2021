{
 "cells": [
  {
   "cell_type": "markdown",
   "metadata": {},
   "source": [
    "![structural](structural.png \"structural\")"
   ]
  },
  {
   "cell_type": "markdown",
   "metadata": {},
   "source": [
    "![modal](modal.png \"modal\")"
   ]
  },
  {
   "cell_type": "markdown",
   "metadata": {},
   "source": [
    "![thermal](thermal.png \"thermal\")"
   ]
  },
  {
   "cell_type": "markdown",
   "metadata": {},
   "source": [
    "![geometry](geometry.png \"geometry\")"
   ]
  },
  {
   "cell_type": "markdown",
   "metadata": {},
   "source": [
    "![doe2](doe2.png \"doe2\")"
   ]
  },
  {
   "cell_type": "markdown",
   "metadata": {},
   "source": [
    "![resp](resp.png \"resp\")"
   ]
  },
  {
   "cell_type": "markdown",
   "metadata": {},
   "source": [
    "![curve](curve.png \"curve\")"
   ]
  },
  {
   "cell_type": "markdown",
   "metadata": {},
   "source": [
    "![curve2](curve2.png \"curve2\")"
   ]
  },
  {
   "cell_type": "markdown",
   "metadata": {},
   "source": [
    "![curve3](curve3.png \"curve3\")"
   ]
  },
  {
   "cell_type": "markdown",
   "metadata": {},
   "source": [
    "![sens](sens.png \"sens\")"
   ]
  },
  {
   "cell_type": "markdown",
   "metadata": {},
   "source": [
    "![good](good.png \"good\")"
   ]
  },
  {
   "cell_type": "markdown",
   "metadata": {},
   "source": [
    "![newgeom](newgeom.png \"newgeom\")"
   ]
  },
  {
   "cell_type": "markdown",
   "metadata": {},
   "source": [
    "The design variables were the inner and outer diameters of the brake disc as well as the thickness.\n",
    "\n",
    "One of the many potential trade-offs between objectives may be stress and temperature. Variables used to minimize temperature may increase your maximum stress and vice-versa. \n",
    "\n",
    "The variables shown here are discrete as a finite number of design points were used to build the doe. The optimization strategy though relies on continious surfaces meshed together from the discrete points to perform the optimization.\n",
    "\n",
    "The optimization method I chose to use was optimal space filling as I was able to define the amount of design points and only had finite computation time. Kriging as our surface response model which was highly reliable once the proper limits were placed on variables and the verification points were used to validate our results.\n",
    "\n",
    "Our sensitivity analysis also showed monotonicty with all variables to some degree. The few exceptions with respect to their magnitude is the thickness did not impact the frequency or stresses much but did have a high impact on temperature. The inner and outer diameters also had a major effect on stresses and frequency.\n",
    "\n",
    "The optimal gemotry solution compared to the initial once did reduce the stress and frequency a fair amount. It seems to have shrunk both the inner and outer diameters while keeping the thickness the same as out initial geometry. This design does a very well (althought not \"great\"\") job at minimizing the desired objective outputs overall with respect to input variables."
   ]
  }
 ],
 "metadata": {
  "language_info": {
   "name": "python"
  },
  "orig_nbformat": 4
 },
 "nbformat": 4,
 "nbformat_minor": 2
}
