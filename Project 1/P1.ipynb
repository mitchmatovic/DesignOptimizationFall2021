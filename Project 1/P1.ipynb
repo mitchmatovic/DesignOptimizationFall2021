{
 "cells": [
  {
   "cell_type": "markdown",
   "metadata": {},
   "source": []
  },
  {
   "cell_type": "markdown",
   "metadata": {},
   "source": [
    "Problem Overview:\n",
    "The goal of this notebook is to choose an aspect of design criteria that we will implement into the original rocket landing model given to us.\n",
    "For this project, we will improve on the realism of the defining spaces by assuming the rocket is rolling. Rolling is defined as a non-zero angular velocity among its longest axis for the initial condition, defined as omega in the problem definition."
   ]
  },
  {
   "cell_type": "markdown",
   "metadata": {},
   "source": [
    "![P1](P1.png \"P1\")"
   ]
  },
  {
   "cell_type": "markdown",
   "metadata": {},
   "source": [
    "This implies we give the rocket a constant to define the rate at which omega will change, defined as ROTATION_ACCEL in the environmental parameters of the code."
   ]
  },
  {
   "cell_type": "code",
   "execution_count": 1,
   "metadata": {},
   "outputs": [],
   "source": [
    "# overhead\n",
    "\n",
    "import logging\n",
    "import math\n",
    "import random\n",
    "import numpy as np\n",
    "import time\n",
    "import torch as t\n",
    "import torch.nn as nn\n",
    "from torch import optim\n",
    "from torch.nn import utils\n",
    "import matplotlib.pyplot as plt\n",
    "\n",
    "logger = logging.getLogger(__name__)"
   ]
  },
  {
   "cell_type": "code",
   "execution_count": 2,
   "metadata": {},
   "outputs": [],
   "source": [
    "# environment parameters\n",
    "\n",
    "FRAME_TIME = 0.1  # time interval\n",
    "GRAVITY_ACCEL = 0.12  # gravity constant\n",
    "BOOST_ACCEL = 0.18  # thrust constant\n",
    "\n",
    "\n",
    "# # the following parameters are not being used in the sample code\n",
    "# PLATFORM_WIDTH = 0.25  # landing platform width\n",
    "# PLATFORM_HEIGHT = 0.06  # landing platform height\n",
    "ROTATION_ACCEL = .2  # rotation constant\n",
    "# DRAG_COEFF = .05"
   ]
  },
  {
   "cell_type": "markdown",
   "metadata": {},
   "source": [
    "Here we define the state space and time step matrix that we will use to add our spin."
   ]
  },
  {
   "cell_type": "code",
   "execution_count": 3,
   "metadata": {},
   "outputs": [],
   "source": [
    "# define system dynamics\n",
    "# Notes: \n",
    "# 0. You only need to modify the \"forward\" function\n",
    "# 1. All variables in \"forward\" need to be PyTorch tensors.\n",
    "# 2. All math operations in \"forward\" has to be differentiable, e.g., default PyTorch functions.\n",
    "# 3. Do not use inplace operations, e.g., x += 1. Please see the following section for an example that does not work.\n",
    "\n",
    "class Dynamics(nn.Module):\n",
    "\n",
    "    def __init__(self):\n",
    "        super(Dynamics, self).__init__()\n",
    "\n",
    "    @staticmethod\n",
    "    def forward(state, action):\n",
    "\n",
    "        \"\"\"\n",
    "        action: thrust or no thrust\n",
    "        state[0] = y\n",
    "        state[1] = y_dot\n",
    "        \"\"\"\n",
    "        \n",
    "\n",
    "        # Apply gravity\n",
    "        # Note: Here gravity is used to change velocity which is the second element of the state vector\n",
    "        # Normally, we would do x[1] = x[1] + gravity * delta_time\n",
    "        # but this is not allowed in PyTorch since it overwrites one variable (x[1]) that is part of the computational graph to be differentiated.\n",
    "        # Therefore, I define a tensor dx = [0., gravity * delta_time], and do x = x + dx. This is allowed... \n",
    "        delta_state_gravity = t.tensor([0., GRAVITY_ACCEL * FRAME_TIME,0])\n",
    "        # Thrust\n",
    "        # Note: Same reason as above. Need a 2-by-1 tensor.\n",
    "        delta_state = BOOST_ACCEL * FRAME_TIME * t.tensor([0., -1.,0]) * action\n",
    "        delta_state_spin = ROTATION_ACCEL * FRAME_TIME * t.tensor([0,0,-1]) * action\n",
    "        # Update velocity\n",
    "        state = state + delta_state + delta_state_gravity + delta_state_spin\n",
    "        \n",
    "        # Update state\n",
    "        # Note: Same as above. Use operators on matrices/tensors as much as possible. Do not use element-wise operators as they are considered inplace.\n",
    "        step_mat = t.tensor([[1., FRAME_TIME, 0],\n",
    "                            [0, 1, 0],\n",
    "                            [0, 0, 1]])\n",
    "        state = t.matmul(step_mat, state)\n",
    "\n",
    "        return state"
   ]
  },
  {
   "cell_type": "markdown",
   "metadata": {},
   "source": [
    "Changing the given neural network code appears to have drastic impact on the resulting convergence plots."
   ]
  },
  {
   "cell_type": "code",
   "execution_count": 4,
   "metadata": {},
   "outputs": [],
   "source": [
    "# a deterministic controller\n",
    "# Note:\n",
    "# 0. You only need to change the network architecture in \"__init__\"\n",
    "# 1. nn.Sigmoid outputs values from 0 to 1, nn.Tanh from -1 to 1\n",
    "# 2. You have all the freedom to make the network wider (by increasing \"dim_hidden\") or deeper (by adding more lines to nn.Sequential)\n",
    "# 3. Always start with something simple\n",
    "\n",
    "class Controller(nn.Module):\n",
    "\n",
    "    def __init__(self, dim_input, dim_hidden, dim_output):\n",
    "        \"\"\"\n",
    "        dim_input: # of system states\n",
    "        dim_output: # of actions\n",
    "        dim_hidden: up to you\n",
    "        \"\"\"\n",
    "        super(Controller, self).__init__()\n",
    "        self.network = nn.Sequential(\n",
    "            nn.Linear(dim_input, dim_hidden),\n",
    "            nn.Sigmoid(),\n",
    "            nn.Linear(dim_hidden, dim_output),\n",
    "\n",
    "            # You can add more layers here\n",
    "            nn.Tanh(),\n",
    "\n",
    "            \n",
    "            \n",
    "\n",
    "        )\n",
    "\n",
    "    def forward(self, state):\n",
    "        action = self.network(state)\n",
    "        return action"
   ]
  },
  {
   "cell_type": "markdown",
   "metadata": {},
   "source": [
    "Our initial state is define here as a spin of 1 angle per time frame\n",
    "The function to minimze is also define by adding the square of omega"
   ]
  },
  {
   "cell_type": "code",
   "execution_count": 5,
   "metadata": {},
   "outputs": [],
   "source": [
    "# the simulator that rolls out x(1), x(2), ..., x(T)\n",
    "# Note:\n",
    "# 0. Need to change \"initialize_state\" to optimize the controller over a distribution of initial states\n",
    "# 1. self.action_trajectory and self.state_trajectory stores the action and state trajectories along time\n",
    "\n",
    "class Simulation(nn.Module):\n",
    "\n",
    "    def __init__(self, controller, dynamics, T):\n",
    "        super(Simulation, self).__init__()\n",
    "        self.state = self.initialize_state()\n",
    "        self.controller = controller\n",
    "        self.dynamics = dynamics\n",
    "        self.T = T\n",
    "        self.action_trajectory = []\n",
    "        self.state_trajectory = []\n",
    "\n",
    "    def forward(self, state):\n",
    "        self.action_trajectory = []\n",
    "        self.state_trajectory = []\n",
    "        for _ in range(T):\n",
    "            action = self.controller.forward(state)\n",
    "            state = self.dynamics.forward(state, action)\n",
    "            self.action_trajectory.append(action)\n",
    "            self.state_trajectory.append(state)\n",
    "        return self.error(state)\n",
    "\n",
    "    @staticmethod\n",
    "    def initialize_state():\n",
    "        state = [1., 0., 1]  # TODO: need batch of initial states\n",
    "        return t.tensor(state, requires_grad=False).float()\n",
    "\n",
    "    def error(self, state):\n",
    "        return state[0]**2 + state[1]**2 + state[2]**2"
   ]
  },
  {
   "cell_type": "markdown",
   "metadata": {},
   "source": [
    "Here I removed the visualize function from the loss loop due to carpal tunnel setting in from scrolling so much. Eventually after multiple runs, the graph settled nicely."
   ]
  },
  {
   "cell_type": "code",
   "execution_count": 6,
   "metadata": {},
   "outputs": [],
   "source": [
    "# set up the optimizer\n",
    "# Note:\n",
    "# 0. LBFGS is a good choice if you don't have a large batch size (i.e., a lot of initial states to consider simultaneously)\n",
    "# 1. You can also try SGD and other momentum-based methods implemented in PyTorch\n",
    "# 2. You will need to customize \"visualize\"\n",
    "# 3. loss.backward is where the gradient is calculated (d_loss/d_variables)\n",
    "# 4. self.optimizer.step(closure) is where gradient descent is done\n",
    "\n",
    "class Optimize:\n",
    "    def __init__(self, simulation):\n",
    "        self.simulation = simulation\n",
    "        self.parameters = simulation.controller.parameters()\n",
    "        self.optimizer = optim.LBFGS(self.parameters, lr=0.01)\n",
    "\n",
    "    def step(self):\n",
    "        def closure():\n",
    "            loss = self.simulation(self.simulation.state)\n",
    "            self.optimizer.zero_grad()\n",
    "            loss.backward()\n",
    "            return loss\n",
    "        self.optimizer.step(closure)\n",
    "        return closure()\n",
    "    \n",
    "    def train(self, epochs):\n",
    "        for epoch in range(epochs):\n",
    "            loss = self.step()\n",
    "            print('[%d] loss: %.3f' % (epoch + 1, loss))\n",
    "        self.visualize()\n",
    "\n",
    "    def visualize(self):\n",
    "        data = np.array([self.simulation.state_trajectory[i].detach().numpy() for i in range(self.simulation.T)])\n",
    "        x = data[:, 0]\n",
    "        y = data[:, 1]\n",
    "        z = data[:, 2]\n",
    "        plt.plot(x,y)\n",
    "        plt.plot(x,z)"
   ]
  },
  {
   "cell_type": "code",
   "execution_count": 7,
   "metadata": {},
   "outputs": [
    {
     "name": "stdout",
     "output_type": "stream",
     "text": [
      "[1] loss: 32.954\n",
      "[2] loss: 18.106\n",
      "[3] loss: 11.346\n",
      "[4] loss: 7.416\n",
      "[5] loss: 4.918\n",
      "[6] loss: 3.281\n",
      "[7] loss: 2.189\n",
      "[8] loss: 1.427\n",
      "[9] loss: 0.879\n",
      "[10] loss: 0.537\n",
      "[11] loss: 0.340\n",
      "[12] loss: 0.226\n",
      "[13] loss: 0.156\n",
      "[14] loss: 0.113\n",
      "[15] loss: 0.085\n",
      "[16] loss: 0.068\n",
      "[17] loss: 0.058\n",
      "[18] loss: 0.052\n",
      "[19] loss: 0.049\n",
      "[20] loss: 0.047\n",
      "[21] loss: 0.046\n",
      "[22] loss: 0.045\n",
      "[23] loss: 0.045\n",
      "[24] loss: 0.044\n",
      "[25] loss: 0.044\n",
      "[26] loss: 0.044\n",
      "[27] loss: 0.044\n",
      "[28] loss: 0.044\n",
      "[29] loss: 0.043\n",
      "[30] loss: 0.043\n",
      "[31] loss: 0.042\n",
      "[32] loss: 0.015\n",
      "[33] loss: 0.008\n",
      "[34] loss: 0.004\n",
      "[35] loss: 0.002\n",
      "[36] loss: 0.001\n",
      "[37] loss: 0.001\n",
      "[38] loss: 0.000\n",
      "[39] loss: 0.000\n",
      "[40] loss: 0.000\n"
     ]
    },
    {
     "data": {
      "image/png": "[encoded data removed]",
      "text/plain": [
       "<Figure size 432x288 with 1 Axes>"
      ]
     },
     "metadata": {
      "needs_background": "light"
     },
     "output_type": "display_data"
    }
   ],
   "source": [
    "# Now it's time to run the code!\n",
    "\n",
    "T = 100  # number of time steps\n",
    "dim_input = 3  # state space dimensions\n",
    "dim_hidden = 8  # latent dimensions\n",
    "dim_output = 3  # action space dimensions\n",
    "d = Dynamics()  # define dynamics\n",
    "c = Controller(dim_input, dim_hidden, dim_output)  # define controller\n",
    "s = Simulation(c, d, T)  # define simulation\n",
    "o = Optimize(s)  # define optimizer\n",
    "o.train(40)  # solve the optimization problem"
   ]
  },
  {
   "cell_type": "markdown",
   "metadata": {},
   "source": [
    "Here is our final plot representing our action space. Distance is the x-axis and the y-axis represents velocity (blue) and rolling angular velocity (orange).\n",
    "As we can see, the two curves approach the optimal result of 0 at the end of the algorithm.\n",
    "It's important to note the different results acheived from rerunning the exact same code. We know this is due to the neural network controller input as it ultimately relies on random inputs and \"guesses\" in the right direction. Which it happen to for this plot."
   ]
  },
  {
   "cell_type": "code",
   "execution_count": 16,
   "metadata": {},
   "outputs": [
    {
     "data": {
      "text/plain": [
       "Text(0.5, 1.0, 'Loss vs iteration')"
      ]
     },
     "execution_count": 16,
     "metadata": {},
     "output_type": "execute_result"
    },
    {
     "data": {
      "image/png": "[encoded data removed]",
      "text/plain": [
       "<Figure size 432x288 with 1 Axes>"
      ]
     },
     "metadata": {
      "needs_background": "light"
     },
     "output_type": "display_data"
    }
   ],
   "source": [
    "import numpy as np\n",
    "from matplotlib import pyplot as plt\n",
    "loss = [32.954, 18.106, 11.346, 7.416, 4.916,\\\n",
    "        4.918, 3.281, 2.189, 1.427, 0.879,\\\n",
    "        0.537, 0.340, 0.226, 0.156, 0.113,\\\n",
    "        0.085, 0.068, 0.058, 0.052, 0.049,\\\n",
    "        0.047, 0.046, 0.045, 0.045, 0.044,\\\n",
    "        0.044, 0.044, 0.044, 0.044, 0.043,\\\n",
    "        0.043, 0.042, 0.015, 0.008, 0.004,\\\n",
    "        0.002, 0.001, 0.000, 0.000, 0.000]\n",
    "x = np.linspace(1, 40, num=40)\n",
    "plt.plot(loss,x)\n",
    "plt.title('Loss vs iteration')\n"
   ]
  },
  {
   "cell_type": "markdown",
   "metadata": {},
   "source": [
    "Comparing the loss to the iterations shows us a logarithmic relation which makes sense given the algorithm. It appears to have converged upon the approximate solution fairly qucikly with refinements to the space happening in the later iterations."
   ]
  }
 ],
 "metadata": {
  "interpreter": {
   "hash": "aee8b7b246df8f9039afb4144a1f6fd8d2ca17a180786b69acc140d282b71a49"
  },
  "kernelspec": {
   "display_name": "Python 3.9.6 64-bit",
   "name": "python3"
  },
  "language_info": {
   "codemirror_mode": {
    "name": "ipython",
    "version": 3
   },
   "file_extension": ".py",
   "mimetype": "text/x-python",
   "name": "python",
   "nbconvert_exporter": "python",
   "pygments_lexer": "ipython3",
   "version": "3.9.6"
  },
  "orig_nbformat": 4
 },
 "nbformat": 4,
 "nbformat_minor": 2
}
