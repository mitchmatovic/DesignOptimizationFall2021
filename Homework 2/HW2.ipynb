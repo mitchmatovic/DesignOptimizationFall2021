{
 "cells": [
  {
   "cell_type": "markdown",
   "source": [
    "Problem 1"
   ],
   "metadata": {}
  },
  {
   "cell_type": "markdown",
   "source": [
    "![P1](P1.png \"P1\")"
   ],
   "metadata": {}
  },
  {
   "cell_type": "markdown",
   "source": [
    "![P2](P2.png \"P2\")"
   ],
   "metadata": {}
  },
  {
   "cell_type": "code",
   "execution_count": 12,
   "source": [
    "import numpy as np\n",
    "import matplotlib.pyplot as plt\n",
    "\n",
    "obj = lambda x: (1-2*x[0]+3*x[1])**2 + x[0]**2 + (x[1]-1)**2\n",
    "\n",
    "def grad(x):\n",
    "    return np.array([10*x[0] + 12*x[1] - 8, 12*x[0] + 20*x[1] - 14])\n",
    "H = np.asarray(([[10,12],[-12,20]]))\n",
    "\n",
    "eps = 1e-3\n",
    "x0 = np.zeros((2), dtype=int)\n",
    "k = 0\n",
    "i = [k]\n",
    "soln = [x0]\n",
    "x = soln[k]\n",
    "Hinv = np.linalg.inv(H)\n",
    "e = np.linalg.norm(grad(x))\n",
    "error = [e]\n",
    "print(error)\n",
    "a=1\n",
    "count = 0\n",
    "\n",
    "x_guess = [1, 1]\n",
    "\n",
    "\n",
    "def linesearch(x):\n",
    "    a = 1.\n",
    "    d = -np.matmul(np.linalg.inv(H), grad(x))\n",
    "    print(d)\n",
    "    def phi (a, x):\n",
    "        return obj(x) - a*.8*np.matmul(np.transpose(grad(x)),d)\n",
    "    print(phi(a,x))\n",
    "    while phi(a,x)<obj(x+a*d):\n",
    "        a = 0.5*a\n",
    "    return a\n",
    "    \n",
    "while error[len(error)-1] >= eps and count<10:\n",
    "    count = count + 1\n",
    "    a = linesearch(x)\n",
    "    print(x)\n",
    "    print(a)\n",
    "    print(grad(x))\n",
    "    x = x - a*grad(x)\n",
    "    print(x)\n",
    "    soln.append(x)\n",
    "    e = np.linalg.norm(grad(x))\n",
    "    error.append(e)\n",
    "    k=k+1\n",
    "    i.append(k)\n"
   ],
   "outputs": [
    {
     "output_type": "stream",
     "name": "stdout",
     "text": [
      "[16.1245154965971]\n",
      "[-0.02325581  0.68604651]\n",
      "9.534883720930232\n",
      "[0 0]\n",
      "0.5\n",
      "[ -8 -14]\n",
      "[4. 7.]\n",
      "[-0.6744186  -9.10465116]\n",
      "1577.9534883720933\n",
      "[4. 7.]\n",
      "1.0\n",
      "[116. 174.]\n",
      "[-112. -167.]\n",
      "[ 18.20930233 245.8255814 ]\n",
      "1086480.093023256\n",
      "[-112. -167.]\n",
      "1.0\n",
      "[-3132. -4698.]\n",
      "[3020. 4531.]\n",
      "[ -491.65116279 -6637.29069767]\n",
      "793496027.8139535\n",
      "[3020. 4531.]\n",
      "1.0\n",
      "[ 84564. 126846.]\n",
      "[ -81544. -122315.]\n",
      "[ 13274.58139535 179206.84883721]\n",
      "578419127340.3721\n",
      "[ -81544. -122315.]\n",
      "1.0\n",
      "[-2283228. -3424842.]\n",
      "[2201684. 3302527.]\n",
      "[ -358413.69767442 -4838584.91860465]\n",
      "421668609436547.3\n",
      "[2201684. 3302527.]\n",
      "1.0\n",
      "[61647156. 92470734.]\n",
      "[-59445472. -89168207.]\n",
      "[9.67716984e+06 1.30641793e+08]\n",
      "3.073963875076248e+17\n",
      "[-59445472. -89168207.]\n",
      "1.0\n",
      "[-1.66447321e+09 -2.49670982e+09]\n",
      "[1.60502774e+09 2.40754161e+09]\n",
      "[-2.61283586e+08 -3.52732841e+09]\n",
      "2.2409196726989196e+20\n",
      "[1.60502774e+09 2.40754161e+09]\n",
      "1.0\n",
      "[4.49407767e+10 6.74111651e+10]\n",
      "[-4.33357490e+10 -6.50036235e+10]\n",
      "[7.05465681e+09 9.52378670e+10]\n",
      "1.6336304411877674e+23\n",
      "[-4.33357490e+10 -6.50036235e+10]\n",
      "1.0\n",
      "[-1.21340097e+12 -1.82010146e+12]\n",
      "[1.17006522e+12 1.75509783e+12]\n",
      "[-1.90475734e+11 -2.57142241e+12]\n",
      "1.1909165916315456e+26\n",
      "[1.17006522e+12 1.75509783e+12]\n",
      "1.0\n",
      "[3.27618262e+13 4.91427393e+13]\n",
      "[-3.15917610e+13 -4.73876415e+13]\n"
     ]
    }
   ],
   "metadata": {}
  }
 ],
 "metadata": {
  "orig_nbformat": 4,
  "language_info": {
   "name": "python",
   "version": "3.6.5",
   "mimetype": "text/x-python",
   "codemirror_mode": {
    "name": "ipython",
    "version": 3
   },
   "pygments_lexer": "ipython3",
   "nbconvert_exporter": "python",
   "file_extension": ".py"
  },
  "kernelspec": {
   "name": "python3",
   "display_name": "Python 3.6.5 64-bit ('base': conda)"
  },
  "interpreter": {
   "hash": "31ad8a4f7f17ec1b414f3756a8c1a8bfd136f10a0949195681424be9c5c02dba"
  }
 },
 "nbformat": 4,
 "nbformat_minor": 2
}