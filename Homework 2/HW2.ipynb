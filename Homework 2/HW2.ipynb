{
 "cells": [
  {
   "cell_type": "markdown",
   "source": [
    "First attempt is merely a copy of HW1 to gain familiarity with python/jupyter notebook/visual basic"
   ],
   "metadata": {}
  },
  {
   "cell_type": "code",
   "execution_count": 12,
   "source": [],
   "outputs": [],
   "metadata": {}
  },
  {
   "cell_type": "code",
   "execution_count": 13,
   "source": [
    "fun = lambda x: (x[0]+1)**2 + (x[1])**2 + (x[2]-1)**2\n",
    "cons = ({'type': 'eq', 'fun':lambda x: x[0]+2*x[1]+3*x[2]-1})\n",
    "bnds = ((-10, 10), (-10, 10), (-10,10))"
   ],
   "outputs": [],
   "metadata": {}
  },
  {
   "cell_type": "code",
   "execution_count": 14,
   "source": [
    "res = minimize(fun, (1,1,1), method='SLSQP', bounds=bnds, constraints=cons)\n",
    "print(res.x)"
   ],
   "outputs": [
    {
     "output_type": "stream",
     "name": "stdout",
     "text": [
      "[-1.07142858 -0.14285714  0.78571429]\n"
     ]
    }
   ],
   "metadata": {}
  },
  {
   "cell_type": "markdown",
   "source": [
    "Second attempt using gradient descent"
   ],
   "metadata": {}
  },
  {
   "cell_type": "code",
   "execution_count": null,
   "source": [],
   "outputs": [],
   "metadata": {}
  }
 ],
 "metadata": {
  "orig_nbformat": 4,
  "language_info": {
   "name": "python",
   "version": "3.6.5",
   "mimetype": "text/x-python",
   "codemirror_mode": {
    "name": "ipython",
    "version": 3
   },
   "pygments_lexer": "ipython3",
   "nbconvert_exporter": "python",
   "file_extension": ".py"
  },
  "kernelspec": {
   "name": "python3",
   "display_name": "Python 3.6.5 64-bit ('base': conda)"
  },
  "interpreter": {
   "hash": "31ad8a4f7f17ec1b414f3756a8c1a8bfd136f10a0949195681424be9c5c02dba"
  }
 },
 "nbformat": 4,
 "nbformat_minor": 2
}