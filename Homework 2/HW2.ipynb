{
 "cells": [
  {
   "cell_type": "markdown",
   "source": [
    "Problem 1"
   ],
   "metadata": {}
  },
  {
   "cell_type": "markdown",
   "source": [
    "![P1](P1.png \"P1\")"
   ],
   "metadata": {}
  },
  {
   "cell_type": "markdown",
   "source": [
    "![P2](P2.png \"P2\")"
   ],
   "metadata": {}
  },
  {
   "cell_type": "code",
   "execution_count": 33,
   "source": [
    "import numpy as np\n",
    "import matplotlib.pyplot as plt\n",
    "\n",
    "obj = lambda x: (1-2*x[0]-3*x[1]+1)**2 + x[0]**2 + (x[1]-1)**2\n",
    "\n",
    "def grad(x):\n",
    "    return np.array([10*x[0] + 12*x[1] - 8, 12*x[0] + 20*x[1] - 14])\n",
    "H = np.array([[10,-12], [-12,20]])\n",
    "print(H)\n",
    "\n",
    "eps = 1e-3\n",
    "x0 = [0, 0]\n",
    "k = 0\n",
    "i = [k]\n",
    "soln = [x0]\n",
    "x = soln[k]\n",
    "Hinv = np.linalg.inv(H)\n",
    "e = np.linalg.norm(grad(x))\n",
    "error = e\n",
    "print(error)\n",
    "a=1\n",
    "\n",
    "def linesearch(x):\n",
    "    a = 1.\n",
    "    d = np.matmul(np.linalg.inv(H), grad(x))\n",
    "    print(d)\n",
    "    phi = lambda a, x: obj(x) - a*.8*np.matmul(np.transpose(grad(x)),d)\n",
    "    print(phi(a,x))\n",
    "    while phi(a,x)<obj(x+a*d):\n",
    "        a = 0.5*a\n",
    "    return a\n",
    "    \n",
    "while error >= eps and k<10:\n",
    "    a = linesearch(x)\n",
    "    x = x - a*grad(x)\n",
    "    soln.append(x)\n",
    "    error = np.linalg.norm(grad(x))\n",
    "    k=k+1"
   ],
   "outputs": [
    {
     "output_type": "stream",
     "name": "stdout",
     "text": [
      "[[ 10 -12]\n",
      " [-12  20]]\n",
      "16.1245154965971\n",
      "[-5.85714286 -4.21428571]\n",
      "-79.68571428571427\n",
      "[-5.85714286 -4.21428571]\n",
      "-79.68571428571425\n",
      "[-5.85714286 -4.21428571]\n",
      "-79.68571428571425\n",
      "[-5.85714286 -4.21428571]\n",
      "-79.68571428571423\n",
      "[-5.85714286 -4.21428571]\n",
      "-79.68571428571423\n",
      "[-5.85714286 -4.21428571]\n",
      "-79.68571428571423\n",
      "[-5.85714286 -4.21428571]\n",
      "-79.68571428571423\n",
      "[-5.85714286 -4.21428571]\n",
      "-79.68571428571423\n",
      "[-5.85714286 -4.21428571]\n",
      "-79.68571428571423\n",
      "[-5.85714286 -4.21428571]\n",
      "-79.68571428571423\n"
     ]
    }
   ],
   "metadata": {}
  }
 ],
 "metadata": {
  "orig_nbformat": 4,
  "language_info": {
   "name": "python",
   "version": "3.6.5",
   "mimetype": "text/x-python",
   "codemirror_mode": {
    "name": "ipython",
    "version": 3
   },
   "pygments_lexer": "ipython3",
   "nbconvert_exporter": "python",
   "file_extension": ".py"
  },
  "kernelspec": {
   "name": "python3",
   "display_name": "Python 3.6.5 64-bit ('base': conda)"
  },
  "interpreter": {
   "hash": "31ad8a4f7f17ec1b414f3756a8c1a8bfd136f10a0949195681424be9c5c02dba"
  }
 },
 "nbformat": 4,
 "nbformat_minor": 2
}