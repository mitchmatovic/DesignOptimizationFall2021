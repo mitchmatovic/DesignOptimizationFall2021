{
 "cells": [
  {
   "cell_type": "markdown",
   "source": [
    "Problem 1"
   ],
   "metadata": {}
  },
  {
   "cell_type": "markdown",
   "source": [
    "![P1](P1.png \"P1\")"
   ],
   "metadata": {}
  },
  {
   "cell_type": "markdown",
   "source": [
    "![P2](P2.png \"P2\")"
   ],
   "metadata": {}
  },
  {
   "cell_type": "code",
   "execution_count": 22,
   "source": [
    "import numpy as np\n",
    "import matplotlib.pyplot as plt\n",
    "\n",
    "obj = lambda x: (1-2*x[0]-3*x[1]+1)**2 + x[0]**2 + (x[1]-1)**2\n",
    "\n",
    "def grad(x):\n",
    "    return np.array([10*x[0] + 12*x[1] - 8, 12*x[0] + 20*x[1] - 14])\n",
    "H = np.asarray(([[10,-12],[-12,20]]))\n",
    "\n",
    "eps = 1e-3\n",
    "x0 = np.zeros((2), dtype=int)\n",
    "k = 0\n",
    "i = [k]\n",
    "soln = [x0]\n",
    "x = soln[k]\n",
    "Hinv = np.linalg.inv(H)\n",
    "e = np.linalg.norm(grad(x))\n",
    "error = e\n",
    "print(error)\n",
    "a=1\n",
    "\n",
    "x_guess = [1, 1]\n",
    "\n",
    "\n",
    "def linesearch(x):\n",
    "    a = 1.\n",
    "    d = -np.matmul(np.linalg.inv(H), grad(x))\n",
    "    print(d)\n",
    "    def phi (a, x):\n",
    "        return obj(x) - a*.8*np.matmul(np.transpose(grad(x)),d)\n",
    "    print(phi(a,x))\n",
    "    while phi(a,x)<obj(x+a*d):\n",
    "        a = 0.5*a\n",
    "    return a\n",
    "    \n",
    "while error >= eps and k<10:\n",
    "    k = k + 1\n",
    "    a = linesearch(x)\n",
    "    x = x - a*grad(x)\n",
    "    soln.append(x)\n",
    "    error = np.linalg.norm(grad(x))\n"
   ],
   "outputs": [
    {
     "output_type": "stream",
     "name": "stdout",
     "text": [
      "16.1245154965971\n",
      "[5.85714286 4.21428571]\n",
      "89.68571428571427\n",
      "[-36.42857143 -25.85714286]\n",
      "3395.0714285714284\n",
      "[217.92857143 154.85714286]\n",
      "121665.72142857141\n",
      "[-1307.89285714  -929.28571429]\n",
      "4381614.598214285\n",
      "[7847.19642857 5575.64285714]\n",
      "157733166.67455354\n",
      "[-47083.25892857 -33453.89285714]\n",
      "5678408866.122209\n",
      "[282499.51339286 200723.33928571]\n",
      "204422674572.6984\n",
      "[-1694997.10044643 -1204340.04464286]\n",
      "7359216418430.198\n",
      "[10169982.59263393  7226040.26339286]\n",
      "264931790662037.94\n",
      "[-61019895.56082588 -43356241.58258928]\n",
      "9537544465037704.0\n"
     ]
    }
   ],
   "metadata": {}
  }
 ],
 "metadata": {
  "orig_nbformat": 4,
  "language_info": {
   "name": "python",
   "version": "3.6.5",
   "mimetype": "text/x-python",
   "codemirror_mode": {
    "name": "ipython",
    "version": 3
   },
   "pygments_lexer": "ipython3",
   "nbconvert_exporter": "python",
   "file_extension": ".py"
  },
  "kernelspec": {
   "name": "python3",
   "display_name": "Python 3.6.5 64-bit ('base': conda)"
  },
  "interpreter": {
   "hash": "31ad8a4f7f17ec1b414f3756a8c1a8bfd136f10a0949195681424be9c5c02dba"
  }
 },
 "nbformat": 4,
 "nbformat_minor": 2
}