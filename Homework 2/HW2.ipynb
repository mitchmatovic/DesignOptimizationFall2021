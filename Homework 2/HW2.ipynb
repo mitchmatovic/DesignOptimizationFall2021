{
 "cells": [
  {
   "cell_type": "markdown",
   "source": [
    "First attempt is merely a copy of HW1 to gain familiarity with python/jupyter notebook/visual basic"
   ],
   "metadata": {}
  },
  {
   "cell_type": "code",
   "execution_count": 4,
   "source": [
    "from scipy.optimize import minimize"
   ],
   "outputs": [],
   "metadata": {}
  },
  {
   "cell_type": "code",
   "execution_count": 5,
   "source": [
    "fun = lambda x: (x[0]+1)**2 + (x[1])**2 + (x[2]-1)**2\n",
    "cons = ({'type': 'eq', 'fun':lambda x: x[0]+2*x[1]+3*x[2]-1})\n",
    "bnds = ((-10, 10), (-10, 10), (-10,10))"
   ],
   "outputs": [],
   "metadata": {}
  },
  {
   "cell_type": "code",
   "execution_count": 6,
   "source": [
    "res = minimize(fun, (1,1,1), method='SLSQP', bounds=bnds, constraints=cons)\n",
    "print(res.x)"
   ],
   "outputs": [
    {
     "output_type": "stream",
     "name": "stdout",
     "text": [
      "[-1.07142858 -0.14285714  0.78571429]\n"
     ]
    }
   ],
   "metadata": {}
  },
  {
   "cell_type": "markdown",
   "source": [
    "Second attempt using gradient descent"
   ],
   "metadata": {}
  },
  {
   "cell_type": "code",
   "execution_count": 30,
   "source": [
    "from pylab import *\n",
    "x_guess = [1, 1, 1]\n",
    "g = [2*x_guess[0]+2, 2*x_guess[1], 2*x_guess[2]-2]\n",
    "print(norm(g))"
   ],
   "outputs": [
    {
     "output_type": "stream",
     "name": "stdout",
     "text": [
      "4.47213595499958\n"
     ]
    }
   ],
   "metadata": {}
  }
 ],
 "metadata": {
  "orig_nbformat": 4,
  "language_info": {
   "name": "python",
   "version": "3.9.6",
   "mimetype": "text/x-python",
   "codemirror_mode": {
    "name": "ipython",
    "version": 3
   },
   "pygments_lexer": "ipython3",
   "nbconvert_exporter": "python",
   "file_extension": ".py"
  },
  "kernelspec": {
   "name": "python3",
   "display_name": "Python 3.9.6 64-bit ('3.9.6': pyenv)"
  },
  "interpreter": {
   "hash": "ae8f967ece8fe9ca512afae2263c8d4e28ba8bbff6800e4f2ca859c578fee8c8"
  }
 },
 "nbformat": 4,
 "nbformat_minor": 2
}